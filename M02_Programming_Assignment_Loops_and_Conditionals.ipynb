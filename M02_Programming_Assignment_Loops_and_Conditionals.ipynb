{
 "cells": [
  {
   "cell_type": "markdown",
   "id": "dd2cdd20-d4c2-4068-8daa-5e8d66b94f3e",
   "metadata": {},
   "source": [
    "Ryan Hayes\n",
    "M02 Programming Assignment Loops and Conditionals\n",
    "3/29/2024"
   ]
  },
  {
   "cell_type": "code",
   "execution_count": 4,
   "id": "26809ea7-fdb1-4b15-8a16-6958faa50c83",
   "metadata": {},
   "outputs": [
    {
     "name": "stdout",
     "output_type": "stream",
     "text": [
      "too high\n",
      "Secret: 4 Guess: 7\n"
     ]
    }
   ],
   "source": [
    "######################### Question 4.1 #################################\n",
    "import random\n",
    "\n",
    "# Choose a number between 1 and 10 for secret\n",
    "secret = random.randint(1, 10)\n",
    "\n",
    "# Choose another number between 1 and 10 for guess\n",
    "guess = random.randint(1, 10)\n",
    "\n",
    "# Conditional tests to compare guess and secret\n",
    "if guess < secret:\n",
    "    print('too low')\n",
    "elif guess > secret:\n",
    "    print('too high')\n",
    "else:\n",
    "    print('just right')\n",
    "\n",
    "# Print secret and guess to see the values\n",
    "print(\"Secret:\", secret, \"Guess:\", guess)"
   ]
  },
  {
   "cell_type": "code",
   "execution_count": 6,
   "id": "04683b61-c4cd-4c10-ad42-48ce7a3dc767",
   "metadata": {},
   "outputs": [
    {
     "name": "stdout",
     "output_type": "stream",
     "text": [
      "watermelon\n"
     ]
    }
   ],
   "source": [
    "################ Question 4.2 ###################\n",
    "# Assign True or False to the variables small and green\n",
    "small = False  # Change this to False to test different outcomes\n",
    "green = True  # Change this to False to test different outcomes\n",
    "\n",
    "# Determine and print which item it is based on the attributes\n",
    "if small and green:\n",
    "    print('pea')\n",
    "elif small and not green:\n",
    "    print('cherry')\n",
    "elif not small and green:\n",
    "    print('watermelon')\n",
    "else:  # not small and not green\n",
    "    print('pumpkin')\n"
   ]
  },
  {
   "cell_type": "code",
   "execution_count": 7,
   "id": "02e494cc-3a22-493f-8015-f9213de53cdb",
   "metadata": {},
   "outputs": [
    {
     "name": "stdout",
     "output_type": "stream",
     "text": [
      "3\n",
      "2\n",
      "1\n",
      "0\n"
     ]
    }
   ],
   "source": [
    "################# Question 6.1 ##############\n",
    "# Define the list\n",
    "numbers_list = [3, 2, 1, 0]\n",
    "\n",
    "# Use a for loop to print the values of the list\n",
    "for number in numbers_list:\n",
    "    print(number)\n"
   ]
  },
  {
   "cell_type": "code",
   "execution_count": 8,
   "id": "86f22ff2-74bb-4559-8120-7ecc7ff0a48f",
   "metadata": {},
   "outputs": [
    {
     "name": "stdout",
     "output_type": "stream",
     "text": [
      "too low\n",
      "too low\n",
      "too low\n",
      "too low\n",
      "too low\n",
      "too low\n",
      "found it!\n"
     ]
    }
   ],
   "source": [
    "################### Question 6.2 ################\n",
    "# Assign the values to guess_me and number\n",
    "guess_me = 7\n",
    "number = 1\n",
    "\n",
    "# Write a while loop to compare number with guess_me\n",
    "while True:\n",
    "    if number < guess_me:\n",
    "        print('too low')\n",
    "    elif number == guess_me:\n",
    "        print('found it!')\n",
    "        break\n",
    "    else:  # number > guess_me\n",
    "        print('oops')\n",
    "        break\n",
    "    # Increment number at the end of the loop\n",
    "    number += 1\n"
   ]
  },
  {
   "cell_type": "code",
   "execution_count": 13,
   "id": "8d814bc0-a341-45c4-83b3-8aab0a679d9a",
   "metadata": {},
   "outputs": [
    {
     "name": "stdout",
     "output_type": "stream",
     "text": [
      "too low\n",
      "too low\n",
      "too low\n",
      "too low\n",
      "too low\n",
      "found it!\n"
     ]
    }
   ],
   "source": [
    "################ Question 6.3 ###################\n",
    "# Assign the value to guess_me\n",
    "guess_me = 5\n",
    "\n",
    "# Use a for loop to iterate number over range(10)\n",
    "for number in range(10):\n",
    "    if number < guess_me:\n",
    "        print('too low')\n",
    "    elif number == guess_me:\n",
    "        print('found it!')\n",
    "        break\n",
    "    else:  # number > guess_me\n",
    "        print('oops')\n",
    "        break\n"
   ]
  },
  {
   "cell_type": "code",
   "execution_count": null,
   "id": "3e20a390-9e09-4852-ac98-3ef06d1a2bf6",
   "metadata": {},
   "outputs": [],
   "source": []
  }
 ],
 "metadata": {
  "kernelspec": {
   "display_name": "Python 3 (ipykernel)",
   "language": "python",
   "name": "python3"
  },
  "language_info": {
   "codemirror_mode": {
    "name": "ipython",
    "version": 3
   },
   "file_extension": ".py",
   "mimetype": "text/x-python",
   "name": "python",
   "nbconvert_exporter": "python",
   "pygments_lexer": "ipython3",
   "version": "3.11.7"
  }
 },
 "nbformat": 4,
 "nbformat_minor": 5
}
